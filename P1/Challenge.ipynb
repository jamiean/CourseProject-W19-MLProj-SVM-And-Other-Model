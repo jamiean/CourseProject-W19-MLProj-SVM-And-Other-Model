{
 "cells": [
  {
   "cell_type": "code",
   "execution_count": 1,
   "metadata": {},
   "outputs": [],
   "source": [
    "import pandas as pd\n",
    "import numpy as np\n",
    "\n",
    "import pandas as pd\n",
    "import numpy as np\n",
    "import itertools\n",
    "import string\n",
    "import enchant\n",
    "\n",
    "from sklearn.svm import SVC, LinearSVC\n",
    "from sklearn.model_selection import StratifiedKFold, GridSearchCV\n",
    "from sklearn.feature_selection import SelectFromModel\n",
    "from sklearn.preprocessing import normalize\n",
    "from sklearn.multiclass import OneVsRestClassifier\n",
    "from sklearn.feature_selection import RFE\n",
    "from sklearn.feature_selection import VarianceThreshold\n",
    "from sklearn.model_selection import train_test_split\n",
    "from sklearn.multiclass import OneVsOneClassifier\n",
    "from sklearn import metrics\n",
    "from matplotlib import pyplot as plt"
   ]
  },
  {
   "cell_type": "code",
   "execution_count": 2,
   "metadata": {},
   "outputs": [],
   "source": [
    "def load_data(fname):\n",
    "    \"\"\"\n",
    "    Reads in a csv file and return a dataframe. A dataframe df is similar to dictionary.\n",
    "    You can access the label by calling df['label'], the content by df['content']\n",
    "    the rating by df['rating']\n",
    "    \"\"\"\n",
    "    return pd.read_csv(fname)"
   ]
  },
  {
   "cell_type": "code",
   "execution_count": 3,
   "metadata": {},
   "outputs": [],
   "source": [
    "def extract_dictionary(df):\n",
    "    \"\"\"\n",
    "    Reads a panda dataframe, and returns a dictionary of distinct words\n",
    "    mapping from each distinct word to its index (ordered by when it was found).\n",
    "    Input:\n",
    "        df: dataframe/output of load_data()\n",
    "    Returns:\n",
    "        a dictionary of distinct words that maps each distinct word\n",
    "        to a unique index corresponding to when it was first found while\n",
    "        iterating over all words in each review in the dataframe df\n",
    "    \"\"\"\n",
    "    word_dict = {}\n",
    "    # TODO: Implement this function\n",
    "    set_d = set()\n",
    "    for i in range(df.index.size):\n",
    "        str = df.loc[i][\"text\"].lower()\n",
    "        for c in string.punctuation:\n",
    "            str = str.replace(c, ' ')\n",
    "        set_d = set_d.union(set(str.split()))\n",
    "\n",
    "        \n",
    "    # ignore the unnecessary words\n",
    "    ignore = ['a', 'the', 'i', 'is', 'are', 'an']\n",
    "    set_d = [a for a in set_d if a not in ignore]\n",
    "    for i in range(len(set_d)):\n",
    "        word_dict[set_d[i]] = i\n",
    "    return word_dict"
   ]
  },
  {
   "cell_type": "code",
   "execution_count": 4,
   "metadata": {},
   "outputs": [],
   "source": [
    "def generate_feature_matrix(df, word_dict, time_zone):\n",
    "    \"\"\"\n",
    "    Reads a dataframe and the dictionary of unique words\n",
    "    to generate a matrix of {1, 0} feature vectors for each review.\n",
    "    Use the word_dict to find the correct index to set to 1 for each place\n",
    "    in the feature vector. The resulting feature matrix should be of\n",
    "    dimension (number of reviews, number of words).\n",
    "    Input:\n",
    "        df: dataframe that has the ratings and labels\n",
    "        word_list: dictionary of words mapping to indices\n",
    "    Returns:\n",
    "        a feature matrix of dimension (number of reviews, number of words)\n",
    "    \"\"\"\n",
    "    number_of_reviews = df.shape[0]\n",
    "    number_of_words = len(word_dict)\n",
    "    number_of_timezones = len(time_zone)\n",
    "    feature_matrix = np.zeros((number_of_reviews, number_of_words + number_of_timezones))\n",
    "    # TODO: Implement this function\n",
    "    for i in range(df.index.size):\n",
    "        str = df.loc[i][\"text\"].lower()\n",
    "        for c in string.punctuation:\n",
    "            str = str.replace(c, ' ')\n",
    "        for part in str.split():\n",
    "            if part in word_dict: feature_matrix[i][word_dict.get(part)] += 1\n",
    "        str = df.loc[i][\"user_timezone\"]\n",
    "        if str in time_zone: feature_matrix[i][number_of_words + time_zone.get(str)] = 1\n",
    "    feature_matrix = normalize(feature_matrix, norm = 'max')\n",
    "    return feature_matrix"
   ]
  },
  {
   "cell_type": "code",
   "execution_count": 5,
   "metadata": {},
   "outputs": [],
   "source": [
    "def get_multiclass_training_data():\n",
    "    \"\"\"\n",
    "    Reads in the data from data/dataset.csv and returns it using\n",
    "    extract_dictionary and generate_feature_matrix as a tuple\n",
    "    (X_train, Y_train) where the labels are multiclass as follows\n",
    "        -1: poor\n",
    "         0: average\n",
    "         1: good\n",
    "    Also returns the dictionary used to create X_train.\n",
    "    \"\"\"\n",
    "    fname = \"data/dataset.csv\"\n",
    "    dataframe = load_data(fname)\n",
    "    neutralDF = dataframe[dataframe['label'] == 0].copy()\n",
    "    positiveDF = dataframe[dataframe['label'] == 1].copy()\n",
    "    negativeDF = dataframe[dataframe['label'] == -1].copy()\n",
    "#     n_x_train, n_x_test = train_test_split(neutralDF, test_size = 0.1)\n",
    "#     p_x_train, p_x_test = train_test_split(positiveDF, test_size = 0.1)\n",
    "#     g_x_train, g_x_test = train_test_split(negativeDF, test_size = 0.1)\n",
    "#     X_train = pd.concat([n_x_train, p_x_train, g_x_train]).reset_index(drop=True).copy()\n",
    "    X_train = pd.concat([neutralDF, positiveDF, negativeDF]).reset_index(drop=True).copy()\n",
    "    dictionary = extract_dictionary(X_train)\n",
    "    time_zone = extract_time_zone(X_train)\n",
    "#     X_test = pd.concat([n_x_test, p_x_test, g_x_test]).reset_index(drop=True).copy()\n",
    "    X_test = pd.concat([neutralDF, positiveDF, negativeDF]).reset_index(drop=True).copy()\n",
    "    Y_train = X_train['label'].values.copy()\n",
    "    Y_test = X_test['label'].values.copy()\n",
    "    X_train = generate_feature_matrix(X_train, dictionary, time_zone)\n",
    "    X_test = generate_feature_matrix(X_test, dictionary, time_zone)\n",
    "    \n",
    "\n",
    "\n",
    "    return (X_train, Y_train, X_test, Y_test, dictionary, time_zone)"
   ]
  },
  {
   "cell_type": "code",
   "execution_count": 6,
   "metadata": {},
   "outputs": [],
   "source": [
    "def extract_time_zone(df):\n",
    "    time_zone = {}\n",
    "    # TODO: Implement this function\n",
    "    set_t = set()\n",
    "    for i in range(df.index.size):\n",
    "        str = df.loc[i][\"user_timezone\"]\n",
    "        set_t.add(str)\n",
    "    set_t = list(set_t)\n",
    "    for i in range(len(set_t)):\n",
    "        time_zone[set_t[i]] = i\n",
    "    return time_zone"
   ]
  },
  {
   "cell_type": "code",
   "execution_count": 7,
   "metadata": {},
   "outputs": [],
   "source": [
    "def generate_challenge_labels(y, uniqname):\n",
    "    \"\"\"\n",
    "    Takes in a numpy array that stores the prediction of your multiclass\n",
    "    classifier and output the prediction to held_out_result.csv. Please make sure that\n",
    "    you do not change the order of the ratings in the heldout dataset since we will\n",
    "    this file to evaluate your classifier.\n",
    "    \"\"\"\n",
    "    pd.Series(np.array(y)).to_csv(uniqname+'.csv', header=['label'], index=False)\n",
    "    return"
   ]
  },
  {
   "cell_type": "code",
   "execution_count": 8,
   "metadata": {},
   "outputs": [],
   "source": [
    "def get_heldout_reviews(dictionary, time_zone):\n",
    "    \"\"\"\n",
    "    Reads in the data from data/heldout.csv and returns it as a feature\n",
    "    matrix based on the functions extract_dictionary and generate_feature_matrix\n",
    "    Input:\n",
    "        dictionary: the dictionary created by get_multiclass_training_data\n",
    "    \"\"\"\n",
    "    fname = \"data/heldout.csv\"\n",
    "    dataframe = load_data(fname)\n",
    "    X = generate_feature_matrix(dataframe, dictionary, time_zone)\n",
    "    return X"
   ]
  },
  {
   "cell_type": "code",
   "execution_count": 9,
   "metadata": {},
   "outputs": [],
   "source": [
    "def select_classifier(penalty='l2', c=1.0, degree=1, r=0.0, class_weight='balanced'):\n",
    "    \"\"\"\n",
    "    Return a linear svm classifier based on the given\n",
    "    penalty function and regularization parameter c.\n",
    "    \"\"\"\n",
    "\n",
    "    if penalty == 'l1': return LinearSVC(penalty = 'l1', dual = False, C = c, class_weight = class_weight, max_iter = 1000000, multi_class ='ovr')\n",
    "    if degree == 1: return SVC(kernel='linear', C=c, class_weight=class_weight, degree = degree,decision_function_shape = 'ovr')\n",
    "    if degree == 2: return SVC(gamma = 'auto', kernel='poly', C=c, class_weight=class_weight, degree = degree, coef0 = r, decision_function_shape = 'ovo')"
   ]
  },
  {
   "cell_type": "code",
   "execution_count": 10,
   "metadata": {},
   "outputs": [],
   "source": [
    "def cv_performance(clf, X, y, k=5, metric=\"accuracy\"):\n",
    "    \"\"\"\n",
    "    Splits the data X and the labels y into k-folds and runs k-fold\n",
    "    cross-validation: for each fold i in 1...k, trains a classifier on\n",
    "    all the data except the ith fold, and tests on the ith fold.\n",
    "    Calculates the k-fold cross-validation performance metric for classifier\n",
    "    clf by averaging the performance across folds.\n",
    "    Input:\n",
    "        clf: an instance of SVC()\n",
    "        X: (n,d) array of feature vectors, where n is the number of examples\n",
    "           and d is the number of features\n",
    "        y: (n,) array of binary labels {1,-1}\n",
    "        k: an int specifying the number of folds (default=5)\n",
    "        metric: string specifying the performance metric (default='accuracy'\n",
    "             other options: 'f1-score', 'auroc', 'precision', 'sensitivity',\n",
    "             and 'specificity')\n",
    "    Returns:\n",
    "        average 'test' performance across the k folds as np.float64\n",
    "    \"\"\"\n",
    "    # TODO: Implement this function\n",
    "    #HINT: You may find the StratifiedKFold from sklearn.model_selection\n",
    "    #to be useful\n",
    "\n",
    "    #Put the performance of the model on each fold in the scores array\n",
    "    scores = []\n",
    "    skf = StratifiedKFold(k)\n",
    "    skf.get_n_splits(X, y)\n",
    "\n",
    "    for train_ind, test_ind in skf.split(X, y):\n",
    "        X_train = X[train_ind]\n",
    "        y_train = y[train_ind]\n",
    "        clf = clf.fit(X_train,y_train)\n",
    "        X_test = X[test_ind]\n",
    "        if metric == 'AUROC':\n",
    "            y_pred = clf.decision_function(X_test)\n",
    "        else:\n",
    "            y_pred = clf.predict(X_test)\n",
    "        y_true = y[test_ind]\n",
    "        scores.append(performance(y_true, y_pred, metric))\n",
    "\n",
    "    #And return the average performance across all fold splits.\n",
    "    return np.array(scores).mean()\n"
   ]
  },
  {
   "cell_type": "code",
   "execution_count": 11,
   "metadata": {},
   "outputs": [],
   "source": [
    "def select_param_linear(X, y, k=5, metric=\"accuracy\", C_range = [], penalty='l2'):\n",
    "    \"\"\"\n",
    "    Sweeps different settings for the hyperparameter of a linear-kernel SVM,\n",
    "    calculating the k-fold CV performance for each setting on X, y.\n",
    "    Input:\n",
    "        X: (n,d) array of feature vectors, where n is the number of examples\n",
    "        and d is the number of features\n",
    "        y: (n,) array of binary labels {1,-1}\n",
    "        k: int specifying the number of folds (default=5)\n",
    "        metric: string specifying the performance metric (default='accuracy',\n",
    "             other options: 'f1-score', 'auroc', 'precision', 'sensitivity',\n",
    "             and 'specificity')\n",
    "        C_range: an array with C values to be searched over\n",
    "    Returns:\n",
    "        The parameter value for a linear-kernel SVM that maximizes the\n",
    "        average 5-fold CV performance.\n",
    "    \"\"\"\n",
    "    # TODO: Implement this function\n",
    "    #HINT: You should be using your cv_performance function here\n",
    "    #to evaluate the performance of each SVM\n",
    "    \n",
    "    \n",
    "    max, max_val = 0, 0\n",
    "    for potential in C_range:\n",
    "        clf = select_classifier(c = potential, penalty = penalty)\n",
    "        cur = cv_performance(clf,X,y,k,metric)\n",
    "        if cur > max_val:\n",
    "            max = potential\n",
    "            max_val = cur\n",
    "    return max, max_val"
   ]
  },
  {
   "cell_type": "code",
   "execution_count": 12,
   "metadata": {},
   "outputs": [],
   "source": [
    "def select_param_quadratic(X, y, k=5, metric=\"accuracy\", param_range=[]):\n",
    "    \"\"\"\n",
    "        Sweeps different settings for the hyperparameters of an quadratic-kernel SVM,\n",
    "        calculating the k-fold CV performance for each setting on X, y.\n",
    "        Input:\n",
    "            X: (n,d) array of feature vectors, where n is the number of examples\n",
    "               and d is the number of features\n",
    "            y: (n,) array of binary labels {1,-1}\n",
    "            k: an int specifying the number of folds (default=5)\n",
    "            metric: string specifying the performance metric (default='accuracy'\n",
    "                     other options: 'f1-score', 'auroc', 'precision', 'sensitivity',\n",
    "                     and 'specificity')\n",
    "            parameter_values: a (num_param, 2)-sized array containing the\n",
    "                parameter values to search over. The first column should\n",
    "                represent the values for C, and the second column should\n",
    "                represent the values for r. Each row of this array thus\n",
    "                represents a pair of parameters to be tried together.\n",
    "        Returns:\n",
    "            The parameter value(s) for a quadratic-kernel SVM that maximize\n",
    "            the average 5-fold CV performance\n",
    "    \"\"\"\n",
    "    # TODO: Implement this function\n",
    "    # Hint: This will be very similar to select_param_linear, except\n",
    "    # the type of SVM model you are using will be different...\n",
    "\n",
    "    max_c,max_r, max_val = 0, 0, 0\n",
    "    for potent_c, potent_r in param_range:\n",
    "        clf = select_classifier(c = potent_c, r = potent_r, degree = 2)\n",
    "        cur = cv_performance(clf,X,y,k,metric)\n",
    "        print(potent_c, potent_r, cur)\n",
    "        if cur > max_val:\n",
    "            max_c = potent_c\n",
    "            max_r = potent_r\n",
    "            max_val = cur\n",
    "    print(metric, \":\", max_c, max_r, max_val)\n",
    "    return [max_c, max_r]"
   ]
  },
  {
   "cell_type": "code",
   "execution_count": 13,
   "metadata": {},
   "outputs": [],
   "source": [
    "def performance(y_true, y_pred, metric=\"accuracy\"):\n",
    "    \"\"\"\n",
    "    Calculates the performance metric as evaluated on the true labels\n",
    "    y_true versus the predicted labels y_pred.\n",
    "    Input:\n",
    "        y_true: (n,) array containing known labels\n",
    "        y_pred: (n,) array containing predicted scores\n",
    "        metric: string specifying the performance metric (default='accuracy'\n",
    "                 other options: 'f1-score', 'auroc', 'precision', 'sensitivity',\n",
    "                 and 'specificity')\n",
    "    Returns:\n",
    "        the performance as an np.float64\n",
    "    \"\"\"\n",
    "    # TODO: Implement this function\n",
    "    # This is an optional but very useful function to implement.\n",
    "    # See the sklearn.metrics documentation for pointers on how to implement\n",
    "    # the requested metrics.\n",
    "        # Accuracy = (FP + FN) / N\n",
    "    if (metric == 'Accuracy'):\n",
    "        return metrics.accuracy_score(y_true, y_pred)\n",
    "    \n",
    "    # Recall/Sensitivity = TP / (TP + FN)\n",
    "    elif (metric == 'Sensitivity'):\n",
    "        return metrics.recall_score(y_true, y_pred)\n",
    "    \n",
    "    # Precision = TP / (TP + FP)\n",
    "    elif (metric == 'Precision'):\n",
    "        return metrics.precision_score(y_true, y_pred)\n",
    "    \n",
    "    # F1-Score = 2 * Precision * Sensitivity / (Precision + Sensitivity)\n",
    "    elif (metric == \"F1-Score\"):\n",
    "        return metrics.f1_score(y_true, y_pred)\n",
    "    \n",
    "    # AUROC\n",
    "    elif (metric == \"AUROC\"):\n",
    "        return metrics.roc_auc_score(y_true, y_pred)\n",
    "\n",
    "    #Specificity = TN / (TN + FP)\n",
    "    elif (metric == \"Specificity\"):\n",
    "        TN, FP, FN, TP = metrics.confusion_matrix(y_true, y_pred).ravel()\n",
    "        return TN / (TN + FP)\n"
   ]
  },
  {
   "cell_type": "code",
   "execution_count": 14,
   "metadata": {},
   "outputs": [
    {
     "name": "stdout",
     "output_type": "stream",
     "text": [
      "(3000, 5765)\n"
     ]
    }
   ],
   "source": [
    "X_train, Y_train, X_test, Y_test, dictionary, time_zone = get_multiclass_training_data()\n",
    "print(X_train.shape)"
   ]
  },
  {
   "cell_type": "code",
   "execution_count": 119,
   "metadata": {},
   "outputs": [],
   "source": [
    "# model = LinearSVC(C = 0.4, penalty=\"l1\", dual=False, max_iter = 100000, multi_class ='ovr').fit(X_train, Y_train)\n",
    "# model = SelectFromModel(model, prefit=True, max_features = 2000)\n",
    "# X_train_new = model.transform(X_train)\n",
    "# X_test_new = model.transform(X_test)\n",
    "\n",
    "# clf = SVC(kernel='linear', C=0.25 ,degree = 1,decision_function_shape = 'ovr')\n",
    "# clf.fit(X_train_new, Y_train)\n",
    "# Y_pred = clf.predict(X_test_new)\n",
    "# print(performance(Y_test, Y_pred,'Accuracy'))"
   ]
  },
  {
   "cell_type": "code",
   "execution_count": 16,
   "metadata": {},
   "outputs": [
    {
     "name": "stdout",
     "output_type": "stream",
     "text": [
      "(3000, 1053)\n"
     ]
    },
    {
     "data": {
      "text/plain": [
       "OneVsRestClassifier(estimator=SVC(C=0.25, cache_size=200, class_weight=None, coef0=0.0,\n",
       "  decision_function_shape='ovr', degree=1, gamma='auto_deprecated',\n",
       "  kernel='linear', max_iter=-1, probability=False, random_state=None,\n",
       "  shrinking=True, tol=0.001, verbose=False),\n",
       "          n_jobs=None)"
      ]
     },
     "execution_count": 16,
     "metadata": {},
     "output_type": "execute_result"
    }
   ],
   "source": [
    "model = LinearSVC(C = 0.4, penalty=\"l1\", dual=False, max_iter = 100000, multi_class ='ovr').fit(X_train, Y_train)\n",
    "model = SelectFromModel(model, prefit=True, max_features = 2000)\n",
    "X_train_new = model.transform(X_train)\n",
    "X_test_new = model.transform(X_test)\n",
    "print(X_train_new.shape)\n",
    "\n",
    "clf = OneVsRestClassifier(SVC(kernel='linear', C=0.25 ,degree = 1))\n",
    "clf.fit(X_train_new, Y_train)\n",
    "# Y_pred = clf.predict(X_test_new)\n",
    "# print(performance(Y_test, Y_pred,'Accuracy'))"
   ]
  },
  {
   "cell_type": "code",
   "execution_count": 17,
   "metadata": {},
   "outputs": [],
   "source": [
    "hw_x_train = get_heldout_reviews(dictionary, time_zone)\n",
    "hw_x_train_new = model.transform(hw_x_train)\n",
    "Y_pred = clf.predict(hw_x_train_new)\n",
    "generate_challenge_labels(Y_pred, 'jamiean')"
   ]
  },
  {
   "cell_type": "code",
   "execution_count": 125,
   "metadata": {},
   "outputs": [],
   "source": [
    "# c_range = [0.1 * x for x in range(1,10)]\n",
    "# x_range = []\n",
    "# for x in c_range:\n",
    "#     model = LinearSVC(C = x, penalty=\"l1\", dual=False, max_iter = 100000, multi_class ='ovr').fit(X_train, Y_train)\n",
    "#     model = SelectFromModel(model, prefit=True, max_features = 2000)\n",
    "#     X_train_new = model.transform(X_train)\n",
    "#     X_test_new = model.transform(X_test)\n",
    "#     clf = LinearSVC(C = 1, penalty=\"l1\", dual=False, max_iter = 1000000, multi_class ='ovr')\n",
    "#     x_range.append(cv_performance(clf, X_train_new, Y_train, 5, \"Accuracy\"))\n",
    "# plt.plot(c_range,x_range,'-o')\n",
    "# plt.show()"
   ]
  },
  {
   "cell_type": "code",
   "execution_count": null,
   "metadata": {},
   "outputs": [],
   "source": [
    "# model = LinearSVC(C=i * 0.1, penalty=\"l1\", dual=False, max_iter = 100000, multi_class ='ovr').fit(X_train, Y_train)\n",
    "# print(X_train.shape)\n",
    "# model = SelectFromModel(model, prefit=True, max_features = 2000)\n",
    "# X_train_new = model.transform(X_train)\n",
    "\n",
    "\n",
    "# select_param_linear(X_train_new,Y_train,5,\"Accuracy\",c_range, penalty = 'l1')\n",
    "# X_test_new = model.transform(X_test)\n",
    "# print(X_train_new.shape)\n",
    "# print(X_test_new.shape)"
   ]
  },
  {
   "cell_type": "code",
   "execution_count": 28,
   "metadata": {},
   "outputs": [
    {
     "data": {
      "image/png": "[encoded data removed]",
      "text/plain": [
       "<Figure size 432x288 with 1 Axes>"
      ]
     },
     "metadata": {
      "needs_background": "light"
     },
     "output_type": "display_data"
    }
   ],
   "source": [
    "c_range = [2 ** x for x in range(-3,3)]\n",
    "p_range = [0.1 * x for x in range(1,10)]\n",
    "n = 0.25\n",
    "ans = []\n",
    "ans_1 = []\n",
    "for x in c_range:\n",
    "    clf = OneVsOneClassifier(SVC(kernel='linear', C=x,degree = 1))\n",
    "    clf.fit(X_train_new, Y_train)\n",
    "    Y_pred = clf.predict(X_test_new)\n",
    "    ans.append(performance(Y_test, Y_pred,'Accuracy'))\n",
    "    clf = OneVsRestClassifier(SVC(kernel='linear', C=x,degree = 1))\n",
    "    clf.fit(X_train_new, Y_train)\n",
    "    Y_pred = clf.predict(X_test_new)\n",
    "    ans_1.append(performance(Y_test, Y_pred,'Accuracy'))\n",
    "    \n",
    "plt.plot(c_range,ans,'-o', label = 'SVC_ovo')\n",
    "plt.plot(c_range,ans_1,'-o', label = 'SVC_ovr')\n",
    "plt.legend()\n",
    "plt.show()"
   ]
  },
  {
   "cell_type": "code",
   "execution_count": 126,
   "metadata": {},
   "outputs": [],
   "source": [
    "# model = LinearSVC(C=0.4, penalty=\"l1\", dual=False, max_iter = 100000, multi_class ='ovr')\n",
    "# print(X_train.shape)\n",
    "# selector = RFE(model, n_features_to_select = 600, step = 100)\n",
    "# selector = selector.fit(X_train, Y_train)\n",
    "# X_train_new = selector.transform(X_train)\n",
    "# X_test_new = selector.transform(X_test)\n",
    "# X_train = normalize(X_train, norm = 'max')\n",
    "# X_test = normalize(X_test, norm = 'max')\n",
    "# print(X_train_new.shape)"
   ]
  },
  {
   "cell_type": "code",
   "execution_count": 127,
   "metadata": {},
   "outputs": [],
   "source": [
    "# X_train = normalize(X_train, norm = 'max')\n",
    "# X_test = normalize(X_test, norm = 'max')\n",
    "\n",
    "# for j in range(X_train.shape[1]):\n",
    "#     std = np.std(X_train[:,j])\n",
    "#     mean = np.mean(X_train[:,j])\n",
    "#     for i in range(X_train.shape[0]):\n",
    "#         X_train[i,j] = st.norm.cdf((X_train[i,j] - mean) / std)"
   ]
  },
  {
   "cell_type": "code",
   "execution_count": null,
   "metadata": {},
   "outputs": [],
   "source": [
    "# param_range = [[40,4], [39,4], [41,4], [40,5], [40,3], [39, 5], [39, 3], [41,3]]\n",
    "# # c = np.random.uniform(1,2,10)\n",
    "# # r = np.random.uniform(1,2,10)\n",
    "# # for i in range(10): param_range.append([10 ** c[i],10 ** r[i]])\n",
    "# select_param_quadratic(X_train,Y_train,5,\"Accuracy\", param_range)\n",
    "\n",
    "model = LinearSVC(C=0.5, penalty=\"l1\", dual=False, max_iter = 100000, multi_class ='ovr').fit(X_train, Y_train)\n",
    "print(X_train.shape)\n",
    "model = SelectFromModel(model, prefit=True, max_features = 1600)\n",
    "X_train_new = model.transform(X_train)\n",
    "X_test_new = model.transform(X_test)"
   ]
  },
  {
   "cell_type": "code",
   "execution_count": 19,
   "metadata": {},
   "outputs": [
    {
     "name": "stdout",
     "output_type": "stream",
     "text": [
      "0.01 : 0.5383333333333333\n",
      "0.1 : 0.6879166666666667\n",
      "1 : 0.7233333333333334\n",
      "10 : 0.6995833333333332\n",
      "100 : 0.66875\n",
      "Accuracy : 1 0.7233333333333334\n"
     ]
    },
    {
     "data": {
      "text/plain": [
       "1"
      ]
     },
     "execution_count": 19,
     "metadata": {},
     "output_type": "execute_result"
    }
   ],
   "source": [
    "# After finding best parameter is among 0.1 ~ 1\n",
    "# Run the regression selection\n",
    "c_range = [ 10 ** x for x in range(-2,3)]\n",
    "# c_range = [ 0.1 * x for x in range(1,10)]\n",
    "select_param_linear(X_train_new,Y_train,5,\"Accuracy\",c_range, penalty = 'l1')"
   ]
  },
  {
   "cell_type": "code",
   "execution_count": 24,
   "metadata": {},
   "outputs": [
    {
     "data": {
      "image/png": "[encoded data removed]",
      "text/plain": [
       "<Figure size 432x288 with 1 Axes>"
      ]
     },
     "metadata": {
      "needs_background": "light"
     },
     "output_type": "display_data"
    }
   ],
   "source": [
    "plt.plot(c_range,ans,'-o', label = 'SVC_ovo')\n",
    "plt.plot(c_range,ans_1,'-o', label = 'SVC_ovr')\n",
    "plt.legend()\n",
    "plt.xscale('log')\n",
    "plt.show()"
   ]
  },
  {
   "cell_type": "code",
   "execution_count": null,
   "metadata": {},
   "outputs": [],
   "source": []
  }
 ],
 "metadata": {
  "kernelspec": {
   "display_name": "Python 3",
   "language": "python",
   "name": "python3"
  },
  "language_info": {
   "codemirror_mode": {
    "name": "ipython",
    "version": 3
   },
   "file_extension": ".py",
   "mimetype": "text/x-python",
   "name": "python",
   "nbconvert_exporter": "python",
   "pygments_lexer": "ipython3",
   "version": "3.7.1"
  }
 },
 "nbformat": 4,
 "nbformat_minor": 2
}
